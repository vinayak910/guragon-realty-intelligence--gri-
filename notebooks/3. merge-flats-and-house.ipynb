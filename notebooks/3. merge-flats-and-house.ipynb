{
 "cells": [
  {
   "cell_type": "code",
   "execution_count": 1,
   "id": "493a805e",
   "metadata": {},
   "outputs": [],
   "source": [
    "import numpy as np \n",
    "import pandas as pd"
   ]
  },
  {
   "cell_type": "code",
   "execution_count": 2,
   "id": "757e9fa3",
   "metadata": {},
   "outputs": [],
   "source": [
    "flats = pd.read_csv('flats_cleaned.csv')\n",
    "houses = pd.read_csv('house_cleaned.csv')"
   ]
  },
  {
   "cell_type": "code",
   "execution_count": 3,
   "id": "3704176f",
   "metadata": {},
   "outputs": [
    {
     "data": {
      "text/plain": [
       "(2997, 20)"
      ]
     },
     "execution_count": 3,
     "metadata": {},
     "output_type": "execute_result"
    }
   ],
   "source": [
    "flats.shape"
   ]
  },
  {
   "cell_type": "code",
   "execution_count": 5,
   "id": "0e96f4a4",
   "metadata": {},
   "outputs": [
    {
     "data": {
      "text/plain": [
       "(964, 20)"
      ]
     },
     "execution_count": 5,
     "metadata": {},
     "output_type": "execute_result"
    }
   ],
   "source": [
    "houses.shape"
   ]
  },
  {
   "cell_type": "code",
   "execution_count": 8,
   "id": "b287ed77",
   "metadata": {},
   "outputs": [
    {
     "name": "stdout",
     "output_type": "stream",
     "text": [
      "property_name\n",
      "property_type\n",
      "society\n",
      "price\n",
      "price_per_sqft\n",
      "area\n",
      "areaWithType\n",
      "bedRoom\n",
      "bathroom\n",
      "balcony\n",
      "additionalRoom\n",
      "address\n",
      "floorNum\n",
      "facing\n",
      "agePossession\n",
      "nearbyLocations\n",
      "description\n",
      "furnishDetails\n",
      "features\n",
      "rating\n"
     ]
    }
   ],
   "source": [
    "for i in flats.columns:\n",
    "    print(i)"
   ]
  },
  {
   "cell_type": "code",
   "execution_count": 9,
   "id": "510b87b3",
   "metadata": {},
   "outputs": [
    {
     "name": "stdout",
     "output_type": "stream",
     "text": [
      "property_name\n",
      "property_type\n",
      "society\n",
      "price\n",
      "price_per_sqft\n",
      "area\n",
      "areaWithType\n",
      "bedRoom\n",
      "bathroom\n",
      "balcony\n",
      "additionalRoom\n",
      "address\n",
      "floorNum\n",
      "facing\n",
      "agePossession\n",
      "nearbyLocations\n",
      "description\n",
      "furnishDetails\n",
      "features\n",
      "rating\n"
     ]
    }
   ],
   "source": [
    "for i in houses.columns:\n",
    "    print(i)"
   ]
  },
  {
   "cell_type": "code",
   "execution_count": 13,
   "id": "2c47a169",
   "metadata": {},
   "outputs": [],
   "source": [
    "df = pd.concat([flats , houses] , ignore_index = True)"
   ]
  },
  {
   "cell_type": "code",
   "execution_count": 17,
   "id": "b926281e",
   "metadata": {},
   "outputs": [],
   "source": [
    "df = df.sample(df.shape[0], ignore_index = True)"
   ]
  },
  {
   "cell_type": "code",
   "execution_count": 19,
   "id": "6defc50f",
   "metadata": {},
   "outputs": [
    {
     "data": {
      "text/html": [
       "<div>\n",
       "<style scoped>\n",
       "    .dataframe tbody tr th:only-of-type {\n",
       "        vertical-align: middle;\n",
       "    }\n",
       "\n",
       "    .dataframe tbody tr th {\n",
       "        vertical-align: top;\n",
       "    }\n",
       "\n",
       "    .dataframe thead th {\n",
       "        text-align: right;\n",
       "    }\n",
       "</style>\n",
       "<table border=\"1\" class=\"dataframe\">\n",
       "  <thead>\n",
       "    <tr style=\"text-align: right;\">\n",
       "      <th></th>\n",
       "      <th>property_name</th>\n",
       "      <th>property_type</th>\n",
       "      <th>society</th>\n",
       "      <th>price</th>\n",
       "      <th>price_per_sqft</th>\n",
       "      <th>area</th>\n",
       "      <th>areaWithType</th>\n",
       "      <th>bedRoom</th>\n",
       "      <th>bathroom</th>\n",
       "      <th>balcony</th>\n",
       "      <th>additionalRoom</th>\n",
       "      <th>address</th>\n",
       "      <th>floorNum</th>\n",
       "      <th>facing</th>\n",
       "      <th>agePossession</th>\n",
       "      <th>nearbyLocations</th>\n",
       "      <th>description</th>\n",
       "      <th>furnishDetails</th>\n",
       "      <th>features</th>\n",
       "      <th>rating</th>\n",
       "    </tr>\n",
       "  </thead>\n",
       "  <tbody>\n",
       "    <tr>\n",
       "      <th>0</th>\n",
       "      <td>3 BHK Flat in Sector 95 Gurgaon</td>\n",
       "      <td>flat</td>\n",
       "      <td>rof ananda</td>\n",
       "      <td>0.38</td>\n",
       "      <td>5899.0</td>\n",
       "      <td>644.0</td>\n",
       "      <td>Carpet area: 644.12 (59.84 sq.m.)</td>\n",
       "      <td>3</td>\n",
       "      <td>2</td>\n",
       "      <td>1</td>\n",
       "      <td>pooja room</td>\n",
       "      <td>203, Sector 95 Gurgaon, Gurgaon, Haryana</td>\n",
       "      <td>2.0</td>\n",
       "      <td>South-East</td>\n",
       "      <td>1 to 5 Year Old</td>\n",
       "      <td>['Metro', 'Dwarka Expressway', 'Rajeev Chowk',...</td>\n",
       "      <td>Rof ananda is one of gurgaon's most sought aft...</td>\n",
       "      <td>['5 Fan', '1 Exhaust Fan', '1 Geyser', '8 Ligh...</td>\n",
       "      <td>['Power Back-up', 'Security / Fire Alarm', 'In...</td>\n",
       "      <td>['Environment4 out of 5', 'Lifestyle4.5 out of...</td>\n",
       "    </tr>\n",
       "    <tr>\n",
       "      <th>1</th>\n",
       "      <td>3 BHK Flat in Sector 48 Gurgaon</td>\n",
       "      <td>flat</td>\n",
       "      <td>bestech park view city</td>\n",
       "      <td>1.76</td>\n",
       "      <td>9909.0</td>\n",
       "      <td>1776.0</td>\n",
       "      <td>Super Built up area 1776(165 sq.m.)Built Up ar...</td>\n",
       "      <td>3</td>\n",
       "      <td>3</td>\n",
       "      <td>3+</td>\n",
       "      <td>servant room,pooja room</td>\n",
       "      <td>Near To Omax Mall Sohna Road Gurgaon, Sector 4...</td>\n",
       "      <td>9.0</td>\n",
       "      <td>South</td>\n",
       "      <td>5 to 10 Year Old</td>\n",
       "      <td>['Rapid Metro Sector 56', 'Sapphire Mall', 'Om...</td>\n",
       "      <td>An excellent 3 bhk residential apartment is fo...</td>\n",
       "      <td>['3 Wardrobe', '7 Fan', '1 Exhaust Fan', '4 Ge...</td>\n",
       "      <td>['Water purifier', 'Centrally Air Conditioned'...</td>\n",
       "      <td>['Green Area5 out of 5', 'Construction4 out of...</td>\n",
       "    </tr>\n",
       "    <tr>\n",
       "      <th>2</th>\n",
       "      <td>2 BHK Flat in Sohna</td>\n",
       "      <td>flat</td>\n",
       "      <td>ashiana anmol</td>\n",
       "      <td>0.99</td>\n",
       "      <td>8215.0</td>\n",
       "      <td>1205.0</td>\n",
       "      <td>Super Built up area 1205(111.95 sq.m.)Carpet a...</td>\n",
       "      <td>2</td>\n",
       "      <td>2</td>\n",
       "      <td>2</td>\n",
       "      <td>not available</td>\n",
       "      <td>Sohna, Gurgaon, Haryana</td>\n",
       "      <td>6.0</td>\n",
       "      <td>East</td>\n",
       "      <td>Jul 2025</td>\n",
       "      <td>['Global Signum Plaza', 'Airia Mall', 'Sohna R...</td>\n",
       "      <td>2bhk on sohna road, near educational hubs, new...</td>\n",
       "      <td>NaN</td>\n",
       "      <td>['Feng Shui / Vaastu Compliant', 'Security / F...</td>\n",
       "      <td>['Green Area4 out of 5', 'Construction3 out of...</td>\n",
       "    </tr>\n",
       "    <tr>\n",
       "      <th>3</th>\n",
       "      <td>4 BHK Flat in Sector 70 Gurgaon</td>\n",
       "      <td>flat</td>\n",
       "      <td>tulip ivory</td>\n",
       "      <td>2.00</td>\n",
       "      <td>8333.0</td>\n",
       "      <td>2400.0</td>\n",
       "      <td>Super Built up area 2400(222.97 sq.m.)Carpet a...</td>\n",
       "      <td>4</td>\n",
       "      <td>5</td>\n",
       "      <td>3+</td>\n",
       "      <td>servant room</td>\n",
       "      <td>Sector 70 Gurgaon, Gurgaon, Haryana</td>\n",
       "      <td>7.0</td>\n",
       "      <td>North-East</td>\n",
       "      <td>5 to 10 Year Old</td>\n",
       "      <td>['Reach 3 Roads Shopping Mall', 'Southern Peri...</td>\n",
       "      <td>Tulip ivory 4bhk in sector 70, gurgaon is a re...</td>\n",
       "      <td>['4 Wardrobe', '5 Fan', '1 Exhaust Fan', '3 Ge...</td>\n",
       "      <td>['Centrally Air Conditioned', 'Water purifier'...</td>\n",
       "      <td>['Green Area3.5 out of 5', 'Construction3.5 ou...</td>\n",
       "    </tr>\n",
       "    <tr>\n",
       "      <th>4</th>\n",
       "      <td>3 BHK Flat in Sector 86 Gurgaon</td>\n",
       "      <td>flat</td>\n",
       "      <td>dlf the skycourt</td>\n",
       "      <td>1.50</td>\n",
       "      <td>7894.0</td>\n",
       "      <td>1900.0</td>\n",
       "      <td>Super Built up area 1900(176.52 sq.m.)</td>\n",
       "      <td>3</td>\n",
       "      <td>3</td>\n",
       "      <td>1</td>\n",
       "      <td>others</td>\n",
       "      <td>F-02, Sector 86 Gurgaon, Gurgaon, Haryana</td>\n",
       "      <td>16.0</td>\n",
       "      <td>East</td>\n",
       "      <td>1 to 5 Year Old</td>\n",
       "      <td>['Sapphire 83 Mall', 'NH-8, Imt Manesar', 'Rao...</td>\n",
       "      <td>This 3 bhk apartment is available for sale in ...</td>\n",
       "      <td>NaN</td>\n",
       "      <td>['Feng Shui / Vaastu Compliant', 'Security / F...</td>\n",
       "      <td>['Green Area5 out of 5', 'Construction5 out of...</td>\n",
       "    </tr>\n",
       "  </tbody>\n",
       "</table>\n",
       "</div>"
      ],
      "text/plain": [
       "                     property_name property_type                 society  \\\n",
       "0  3 BHK Flat in Sector 95 Gurgaon          flat              rof ananda   \n",
       "1  3 BHK Flat in Sector 48 Gurgaon          flat  bestech park view city   \n",
       "2              2 BHK Flat in Sohna          flat           ashiana anmol   \n",
       "3  4 BHK Flat in Sector 70 Gurgaon          flat             tulip ivory   \n",
       "4  3 BHK Flat in Sector 86 Gurgaon          flat        dlf the skycourt   \n",
       "\n",
       "   price  price_per_sqft    area  \\\n",
       "0   0.38          5899.0   644.0   \n",
       "1   1.76          9909.0  1776.0   \n",
       "2   0.99          8215.0  1205.0   \n",
       "3   2.00          8333.0  2400.0   \n",
       "4   1.50          7894.0  1900.0   \n",
       "\n",
       "                                        areaWithType  bedRoom  bathroom  \\\n",
       "0                  Carpet area: 644.12 (59.84 sq.m.)        3         2   \n",
       "1  Super Built up area 1776(165 sq.m.)Built Up ar...        3         3   \n",
       "2  Super Built up area 1205(111.95 sq.m.)Carpet a...        2         2   \n",
       "3  Super Built up area 2400(222.97 sq.m.)Carpet a...        4         5   \n",
       "4             Super Built up area 1900(176.52 sq.m.)        3         3   \n",
       "\n",
       "  balcony           additionalRoom  \\\n",
       "0       1               pooja room   \n",
       "1      3+  servant room,pooja room   \n",
       "2       2            not available   \n",
       "3      3+             servant room   \n",
       "4       1                   others   \n",
       "\n",
       "                                             address  floorNum      facing  \\\n",
       "0           203, Sector 95 Gurgaon, Gurgaon, Haryana       2.0  South-East   \n",
       "1  Near To Omax Mall Sohna Road Gurgaon, Sector 4...       9.0       South   \n",
       "2                            Sohna, Gurgaon, Haryana       6.0        East   \n",
       "3                Sector 70 Gurgaon, Gurgaon, Haryana       7.0  North-East   \n",
       "4          F-02, Sector 86 Gurgaon, Gurgaon, Haryana      16.0        East   \n",
       "\n",
       "      agePossession                                    nearbyLocations  \\\n",
       "0   1 to 5 Year Old  ['Metro', 'Dwarka Expressway', 'Rajeev Chowk',...   \n",
       "1  5 to 10 Year Old  ['Rapid Metro Sector 56', 'Sapphire Mall', 'Om...   \n",
       "2          Jul 2025  ['Global Signum Plaza', 'Airia Mall', 'Sohna R...   \n",
       "3  5 to 10 Year Old  ['Reach 3 Roads Shopping Mall', 'Southern Peri...   \n",
       "4   1 to 5 Year Old  ['Sapphire 83 Mall', 'NH-8, Imt Manesar', 'Rao...   \n",
       "\n",
       "                                         description  \\\n",
       "0  Rof ananda is one of gurgaon's most sought aft...   \n",
       "1  An excellent 3 bhk residential apartment is fo...   \n",
       "2  2bhk on sohna road, near educational hubs, new...   \n",
       "3  Tulip ivory 4bhk in sector 70, gurgaon is a re...   \n",
       "4  This 3 bhk apartment is available for sale in ...   \n",
       "\n",
       "                                      furnishDetails  \\\n",
       "0  ['5 Fan', '1 Exhaust Fan', '1 Geyser', '8 Ligh...   \n",
       "1  ['3 Wardrobe', '7 Fan', '1 Exhaust Fan', '4 Ge...   \n",
       "2                                                NaN   \n",
       "3  ['4 Wardrobe', '5 Fan', '1 Exhaust Fan', '3 Ge...   \n",
       "4                                                NaN   \n",
       "\n",
       "                                            features  \\\n",
       "0  ['Power Back-up', 'Security / Fire Alarm', 'In...   \n",
       "1  ['Water purifier', 'Centrally Air Conditioned'...   \n",
       "2  ['Feng Shui / Vaastu Compliant', 'Security / F...   \n",
       "3  ['Centrally Air Conditioned', 'Water purifier'...   \n",
       "4  ['Feng Shui / Vaastu Compliant', 'Security / F...   \n",
       "\n",
       "                                              rating  \n",
       "0  ['Environment4 out of 5', 'Lifestyle4.5 out of...  \n",
       "1  ['Green Area5 out of 5', 'Construction4 out of...  \n",
       "2  ['Green Area4 out of 5', 'Construction3 out of...  \n",
       "3  ['Green Area3.5 out of 5', 'Construction3.5 ou...  \n",
       "4  ['Green Area5 out of 5', 'Construction5 out of...  "
      ]
     },
     "execution_count": 19,
     "metadata": {},
     "output_type": "execute_result"
    }
   ],
   "source": [
    "df.head()"
   ]
  },
  {
   "cell_type": "code",
   "execution_count": 20,
   "id": "edf7323a",
   "metadata": {},
   "outputs": [],
   "source": [
    "df.to_csv('gurgoan_properties.csv', index = False)"
   ]
  }
 ],
 "metadata": {
  "kernelspec": {
   "display_name": "Python 3 (ipykernel)",
   "language": "python",
   "name": "python3"
  },
  "language_info": {
   "codemirror_mode": {
    "name": "ipython",
    "version": 3
   },
   "file_extension": ".py",
   "mimetype": "text/x-python",
   "name": "python",
   "nbconvert_exporter": "python",
   "pygments_lexer": "ipython3",
   "version": "3.9.18"
  }
 },
 "nbformat": 4,
 "nbformat_minor": 5
}
